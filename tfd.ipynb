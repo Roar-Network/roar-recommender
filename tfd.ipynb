{
 "cells": [
  {
   "cell_type": "code",
   "execution_count": 1,
   "metadata": {},
   "outputs": [],
   "source": [
    "%load_ext autoreload\n",
    "%autoreload 2"
   ]
  },
  {
   "cell_type": "code",
   "execution_count": 2,
   "metadata": {},
   "outputs": [],
   "source": [
    "import pandas as pd\n",
    "from numpy import argmax\n",
    "from sklearn.model_selection import train_test_split\n",
    "from matplotlib import pyplot as plt\n",
    "\n",
    "test_size = .2\n",
    "valid_size = .1\n",
    "seed = 1024"
   ]
  },
  {
   "cell_type": "markdown",
   "metadata": {},
   "source": [
    "#### Load data from csv"
   ]
  },
  {
   "cell_type": "code",
   "execution_count": 3,
   "metadata": {},
   "outputs": [
    {
     "data": {
      "text/html": [
       "<div>\n",
       "<style scoped>\n",
       "    .dataframe tbody tr th:only-of-type {\n",
       "        vertical-align: middle;\n",
       "    }\n",
       "\n",
       "    .dataframe tbody tr th {\n",
       "        vertical-align: top;\n",
       "    }\n",
       "\n",
       "    .dataframe thead th {\n",
       "        text-align: right;\n",
       "    }\n",
       "</style>\n",
       "<table border=\"1\" class=\"dataframe\">\n",
       "  <thead>\n",
       "    <tr style=\"text-align: right;\">\n",
       "      <th></th>\n",
       "      <th>user_id</th>\n",
       "      <th>roar_id</th>\n",
       "      <th>rating</th>\n",
       "      <th>0</th>\n",
       "      <th>1</th>\n",
       "      <th>2</th>\n",
       "      <th>3</th>\n",
       "      <th>4</th>\n",
       "      <th>5</th>\n",
       "      <th>6</th>\n",
       "      <th>7</th>\n",
       "      <th>8</th>\n",
       "      <th>9</th>\n",
       "      <th>main_category</th>\n",
       "      <th>category</th>\n",
       "      <th>roar_text</th>\n",
       "    </tr>\n",
       "  </thead>\n",
       "  <tbody>\n",
       "    <tr>\n",
       "      <th>0</th>\n",
       "      <td>0</td>\n",
       "      <td>2</td>\n",
       "      <td>9.59</td>\n",
       "      <td>0.400</td>\n",
       "      <td>0.325</td>\n",
       "      <td>0.325</td>\n",
       "      <td>0.5125</td>\n",
       "      <td>0.375</td>\n",
       "      <td>0.300</td>\n",
       "      <td>0.55</td>\n",
       "      <td>0.4125</td>\n",
       "      <td>0.4275</td>\n",
       "      <td>0.5500</td>\n",
       "      <td>6</td>\n",
       "      <td>4</td>\n",
       "      <td>What did the itsy bitsy sipder climb up? water...</td>\n",
       "    </tr>\n",
       "    <tr>\n",
       "      <th>1</th>\n",
       "      <td>4</td>\n",
       "      <td>2</td>\n",
       "      <td>1.91</td>\n",
       "      <td>0.370</td>\n",
       "      <td>0.590</td>\n",
       "      <td>0.375</td>\n",
       "      <td>0.6875</td>\n",
       "      <td>0.600</td>\n",
       "      <td>0.530</td>\n",
       "      <td>0.55</td>\n",
       "      <td>0.6075</td>\n",
       "      <td>0.6750</td>\n",
       "      <td>0.6475</td>\n",
       "      <td>3</td>\n",
       "      <td>4</td>\n",
       "      <td>What did the itsy bitsy sipder climb up? water...</td>\n",
       "    </tr>\n",
       "    <tr>\n",
       "      <th>2</th>\n",
       "      <td>17</td>\n",
       "      <td>2</td>\n",
       "      <td>8.70</td>\n",
       "      <td>0.400</td>\n",
       "      <td>0.325</td>\n",
       "      <td>0.325</td>\n",
       "      <td>0.5125</td>\n",
       "      <td>0.375</td>\n",
       "      <td>0.300</td>\n",
       "      <td>0.55</td>\n",
       "      <td>0.4125</td>\n",
       "      <td>0.4275</td>\n",
       "      <td>0.5500</td>\n",
       "      <td>6</td>\n",
       "      <td>4</td>\n",
       "      <td>What did the itsy bitsy sipder climb up? water...</td>\n",
       "    </tr>\n",
       "    <tr>\n",
       "      <th>3</th>\n",
       "      <td>103</td>\n",
       "      <td>2</td>\n",
       "      <td>2.63</td>\n",
       "      <td>0.445</td>\n",
       "      <td>0.325</td>\n",
       "      <td>0.400</td>\n",
       "      <td>0.4750</td>\n",
       "      <td>0.325</td>\n",
       "      <td>0.300</td>\n",
       "      <td>0.44</td>\n",
       "      <td>0.4425</td>\n",
       "      <td>0.3400</td>\n",
       "      <td>0.6475</td>\n",
       "      <td>9</td>\n",
       "      <td>4</td>\n",
       "      <td>What did the itsy bitsy sipder climb up? water...</td>\n",
       "    </tr>\n",
       "    <tr>\n",
       "      <th>4</th>\n",
       "      <td>108</td>\n",
       "      <td>2</td>\n",
       "      <td>0.67</td>\n",
       "      <td>0.570</td>\n",
       "      <td>0.390</td>\n",
       "      <td>0.425</td>\n",
       "      <td>0.6625</td>\n",
       "      <td>0.475</td>\n",
       "      <td>0.455</td>\n",
       "      <td>0.59</td>\n",
       "      <td>0.5500</td>\n",
       "      <td>0.6025</td>\n",
       "      <td>0.6975</td>\n",
       "      <td>9</td>\n",
       "      <td>4</td>\n",
       "      <td>What did the itsy bitsy sipder climb up? water...</td>\n",
       "    </tr>\n",
       "  </tbody>\n",
       "</table>\n",
       "</div>"
      ],
      "text/plain": [
       "   user_id  roar_id  rating      0      1      2       3      4      5     6  \\\n",
       "0        0        2    9.59  0.400  0.325  0.325  0.5125  0.375  0.300  0.55   \n",
       "1        4        2    1.91  0.370  0.590  0.375  0.6875  0.600  0.530  0.55   \n",
       "2       17        2    8.70  0.400  0.325  0.325  0.5125  0.375  0.300  0.55   \n",
       "3      103        2    2.63  0.445  0.325  0.400  0.4750  0.325  0.300  0.44   \n",
       "4      108        2    0.67  0.570  0.390  0.425  0.6625  0.475  0.455  0.59   \n",
       "\n",
       "        7       8       9  main_category  category  \\\n",
       "0  0.4125  0.4275  0.5500              6         4   \n",
       "1  0.6075  0.6750  0.6475              3         4   \n",
       "2  0.4125  0.4275  0.5500              6         4   \n",
       "3  0.4425  0.3400  0.6475              9         4   \n",
       "4  0.5500  0.6025  0.6975              9         4   \n",
       "\n",
       "                                           roar_text  \n",
       "0  What did the itsy bitsy sipder climb up? water...  \n",
       "1  What did the itsy bitsy sipder climb up? water...  \n",
       "2  What did the itsy bitsy sipder climb up? water...  \n",
       "3  What did the itsy bitsy sipder climb up? water...  \n",
       "4  What did the itsy bitsy sipder climb up? water...  "
      ]
     },
     "execution_count": 3,
     "metadata": {},
     "output_type": "execute_result"
    }
   ],
   "source": [
    "user_ratings_data = pd.read_csv(\"./user_ratings.csv\")\n",
    "users_data = pd.read_csv(\"./users.csv\")\n",
    "roars_data = pd.read_csv(\"./roars.csv\")\n",
    "\n",
    "users_preference = users_data[[f\"{i}\" for i in range(10)]]\n",
    "users_data[\"main_category\"] = [argmax(i) for i in users_preference.to_numpy()]\n",
    "\n",
    "names = users_data.columns.to_list()\n",
    "names[0] = \"user_id\"\n",
    "users_data.columns = names\n",
    "\n",
    "names = roars_data.columns.to_list()\n",
    "names[0] = \"roar_id\"\n",
    "roars_data.columns = names\n",
    "del names\n",
    "\n",
    "# merge in users_data\n",
    "user_ratings_data = pd.merge(user_ratings_data, users_data, on=\"user_id\")\n",
    "user_ratings_data = pd.merge(user_ratings_data, roars_data, on=\"roar_id\")\n",
    "user_ratings_data.head()"
   ]
  },
  {
   "cell_type": "code",
   "execution_count": 5,
   "metadata": {},
   "outputs": [],
   "source": [
    "X_train_full, X_test, Y_train_full, Y_test = train_test_split(user_ratings_data[[\"user_id\", \"roar_id\", \"main_category\", \"category\", \"roar_text\"] + [f\"{i}\" for i in range(10)]], user_ratings_data[\"rating\"], test_size=test_size , random_state=seed)\n",
    "X_train, X_valid, Y_train, Y_valid = train_test_split(X_train_full, Y_train_full, test_size=valid_size, random_state=seed)"
   ]
  },
  {
   "cell_type": "markdown",
   "metadata": {},
   "source": [
    "#### Visualizing users"
   ]
  },
  {
   "cell_type": "code",
   "execution_count": 6,
   "metadata": {},
   "outputs": [],
   "source": [
    "from sklearn.manifold import TSNE\n",
    "rd = TSNE()\n"
   ]
  },
  {
   "cell_type": "code",
   "execution_count": 8,
   "metadata": {},
   "outputs": [
    {
     "name": "stderr",
     "output_type": "stream",
     "text": [
      "/home/atp-ariel/.local/lib/python3.8/site-packages/sklearn/manifold/_t_sne.py:780: FutureWarning: The default initialization in TSNE will change from 'random' to 'pca' in 1.2.\n",
      "  warnings.warn(\n",
      "/home/atp-ariel/.local/lib/python3.8/site-packages/sklearn/manifold/_t_sne.py:790: FutureWarning: The default learning rate in TSNE will change from 200.0 to 'auto' in 1.2.\n",
      "  warnings.warn(\n"
     ]
    }
   ],
   "source": [
    "users_reduced = rd.fit_transform(users_preference)"
   ]
  },
  {
   "cell_type": "code",
   "execution_count": 9,
   "metadata": {},
   "outputs": [
    {
     "name": "stderr",
     "output_type": "stream",
     "text": [
      "No artists with labels found to put in legend.  Note that artists whose label start with an underscore are ignored when legend() is called with no argument.\n"
     ]
    },
    {
     "data": {
      "image/png": "[encoded data removed]",
      "text/plain": [
       "<Figure size 432x288 with 1 Axes>"
      ]
     },
     "metadata": {
      "needs_background": "light"
     },
     "output_type": "display_data"
    }
   ],
   "source": [
    "# Visualizing dataset\n",
    "class_color = ['#77125f', '#92ae28', '#6f166b', '#5ef0f6', '#6d617b', '#a3f103', '#6920e1', '#394093', '#c343f8', '#0ec1b3']\n",
    "colors = [class_color[u] for u in users_data[\"main_category\"]]\n",
    "\n",
    "plt.scatter(users_reduced[:,0], users_reduced[:,1], marker='.', color=colors)\n",
    "plt.legend(loc='best', shadow=False, scatterpoints=1)\n",
    "plt.xlabel('1st Dimension')\n",
    "plt.ylabel('2nd Dimension')\n",
    "plt.title(\"Users\")\n",
    "plt.show()"
   ]
  },
  {
   "cell_type": "markdown",
   "metadata": {},
   "source": [
    "#### Construct recommender"
   ]
  },
  {
   "cell_type": "code",
   "execution_count": 12,
   "metadata": {},
   "outputs": [
    {
     "name": "stderr",
     "output_type": "stream",
     "text": [
      "2022-05-30 13:06:22.943626: W tensorflow/stream_executor/platform/default/dso_loader.cc:64] Could not load dynamic library 'libcudart.so.11.0'; dlerror: libcudart.so.11.0: cannot open shared object file: No such file or directory\n",
      "2022-05-30 13:06:22.943713: I tensorflow/stream_executor/cuda/cudart_stub.cc:29] Ignore above cudart dlerror if you do not have a GPU set up on your machine.\n",
      "/usr/lib/python3/dist-packages/requests/__init__.py:89: RequestsDependencyWarning: urllib3 (1.26.9) or chardet (3.0.4) doesn't match a supported version!\n",
      "  warnings.warn(\"urllib3 ({}) or chardet ({}) doesn't match a supported \"\n"
     ]
    }
   ],
   "source": [
    "import tensorflow as tf\n",
    "from tensorflow.keras.layers import *\n",
    "from tensorflow.keras.models import Model\n",
    "from tensorflow.keras.optimizers import SGD\n",
    "\n"
   ]
  },
  {
   "cell_type": "code",
   "execution_count": 13,
   "metadata": {},
   "outputs": [],
   "source": [
    "class NeuMF:\n",
    "\n",
    "    def __init__(self, user_num, item_num):\n",
    "        \"\"\"\n",
    "            Neural Matrix Factorization is a neural network with the following architecture:\n",
    "            \n",
    "            |=========================================|\n",
    "            |  Legend:                                |\n",
    "            |  - Generic Matrix Factorization (GMF)   |\n",
    "            |  - Multilayer Perceptron (MLP)          |\n",
    "            |=========================================|\n",
    "            \n",
    "            \n",
    "            [[GMF]      [MLP]]\n",
    "            [   [Dense L]    ]\n",
    "            [     [Result]   ]\n",
    "        \"\"\"\n",
    "        latent_features = 8\n",
    "\n",
    "        # Input\n",
    "        user = Input(shape=(1,), dtype='int32')\n",
    "        item = Input(shape=(1,), dtype='int32')\n",
    "\n",
    "        # User embedding for GMF\n",
    "        gmf_user_embedding = Embedding(user_num, latent_features, input_length=user.shape[1])(user)\n",
    "        gmf_user_embedding = Flatten()(gmf_user_embedding)\n",
    "\n",
    "        # Item embedding for GMF\n",
    "        gmf_item_embedding = Embedding(item_num, latent_features, input_length=item.shape[1])(item)\n",
    "        gmf_item_embedding = Flatten()(gmf_item_embedding)\n",
    "\n",
    "        # User embedding for MLP\n",
    "        mlp_user_embedding = Embedding(user_num, 32, input_length=user.shape[1])(user)\n",
    "        mlp_user_embedding = Flatten()(mlp_user_embedding)\n",
    "\n",
    "        # Item embedding for MLP\n",
    "        mlp_item_embedding = Embedding(item_num, 32, input_length=item.shape[1])(item)\n",
    "        mlp_item_embedding = Flatten()(mlp_item_embedding)\n",
    "\n",
    "        # GMF layers\n",
    "        gmf_mul =  Multiply()([gmf_user_embedding, gmf_item_embedding])\n",
    "\n",
    "        # MLP layers\n",
    "        mlp_concat = Concatenate()([mlp_user_embedding, mlp_item_embedding])\n",
    "        mlp_dropout = Dropout(0.2)(mlp_concat)\n",
    "\n",
    "        # Layer1\n",
    "        mlp_layer_1 = Dense(units=64, activation='relu', name='mlp_layer1')(mlp_dropout)  # (64,1)\n",
    "        mlp_dropout1 = Dropout(rate=0.2, name='dropout1')(mlp_layer_1)                    # (64,1)\n",
    "        mlp_batch_norm1 = BatchNormalization(name='batch_norm1')(mlp_dropout1)            # (64,1)\n",
    "\n",
    "        # Layer2\n",
    "        mlp_layer_2 = Dense(units=32, activation='relu', name='mlp_layer2')(mlp_batch_norm1)  # (32,1)\n",
    "        mlp_dropout2 = Dropout(rate=0.2, name='dropout2')(mlp_layer_2)                        # (32,1)\n",
    "        mlp_batch_norm2 = BatchNormalization(name='batch_norm2')(mlp_dropout2)                # (32,1)\n",
    "\n",
    "        # Layer3\n",
    "        mlp_layer_3 = Dense(units=16, activation='relu', name='mlp_layer3')(mlp_batch_norm2)  # (16,1)\n",
    "\n",
    "        # Layer4\n",
    "        mlp_layer_4 = Dense(units=8, activation='relu', name='mlp_layer4')(mlp_layer_3)       # (8,1)\n",
    "\n",
    "        # merge GMF + MLP\n",
    "        merged_vector = tf.keras.layers.concatenate([gmf_mul, mlp_layer_4])\n",
    "\n",
    "        # Output layer\n",
    "        output_layer = Dense(1, kernel_initializer='lecun_uniform', name='output_layer')(merged_vector) # 1,1 / h(8,1)\n",
    "\n",
    "        # Model\n",
    "        self.model = Model([user, item], output_layer)\n",
    "        self.model.compile(optimizer= 'adam', loss= 'binary_crossentropy')\n",
    "\n",
    "    def get_model(self):\n",
    "        model = self.model\n",
    "        return model\n"
   ]
  },
  {
   "cell_type": "code",
   "execution_count": 14,
   "metadata": {},
   "outputs": [],
   "source": [
    "users = X_train[[\"user_id\", \"main_category\"] + [f\"{i}\" for i in range(10)]]\n",
    "user_size = len(users[\"user_id\"].unique())\n",
    "roars = X_train[[\"roar_id\", \"category\", \"roar_text\"]]\n",
    "roar_size = len(roars[\"roar_id\"].unique())"
   ]
  },
  {
   "cell_type": "code",
   "execution_count": 15,
   "metadata": {},
   "outputs": [
    {
     "name": "stderr",
     "output_type": "stream",
     "text": [
      "2022-05-30 13:07:08.232214: W tensorflow/stream_executor/platform/default/dso_loader.cc:64] Could not load dynamic library 'libcuda.so.1'; dlerror: libcuda.so.1: cannot open shared object file: No such file or directory\n",
      "2022-05-30 13:07:08.232315: W tensorflow/stream_executor/cuda/cuda_driver.cc:269] failed call to cuInit: UNKNOWN ERROR (303)\n",
      "2022-05-30 13:07:08.232390: I tensorflow/stream_executor/cuda/cuda_diagnostics.cc:156] kernel driver does not appear to be running on this host (atp-ariel): /proc/driver/nvidia/version does not exist\n",
      "2022-05-30 13:07:08.238875: I tensorflow/core/platform/cpu_feature_guard.cc:193] This TensorFlow binary is optimized with oneAPI Deep Neural Network Library (oneDNN) to use the following CPU instructions in performance-critical operations:  AVX2 FMA\n",
      "To enable them in other operations, rebuild TensorFlow with the appropriate compiler flags.\n"
     ]
    }
   ],
   "source": [
    "nmf = NeuMF(user_size, roar_size)"
   ]
  },
  {
   "cell_type": "code",
   "execution_count": 16,
   "metadata": {},
   "outputs": [],
   "source": [
    "model = nmf.get_model()"
   ]
  },
  {
   "cell_type": "code",
   "execution_count": 14,
   "metadata": {},
   "outputs": [
    {
     "name": "stderr",
     "output_type": "stream",
     "text": [
      "2022-05-30 12:41:12.765363: W tensorflow/core/framework/cpu_allocator_impl.cc:82] Allocation of 24830192 exceeds 10% of free system memory.\n"
     ]
    },
    {
     "ename": "Error",
     "evalue": "Canceled future for execute_request message before replies were done",
     "output_type": "error",
     "traceback": [
      "Error: Canceled future for execute_request message before replies were done",
      "at t.KernelShellFutureHandler.dispose (/home/atp-ariel/.vscode/extensions/ms-toolsai.jupyter-2022.3.1000901801/out/extension.js:2:1204175)",
      "at /home/atp-ariel/.vscode/extensions/ms-toolsai.jupyter-2022.3.1000901801/out/extension.js:2:1223227",
      "at Map.forEach (<anonymous>)",
      "at v._clearKernelState (/home/atp-ariel/.vscode/extensions/ms-toolsai.jupyter-2022.3.1000901801/out/extension.js:2:1223212)",
      "at v.dispose (/home/atp-ariel/.vscode/extensions/ms-toolsai.jupyter-2022.3.1000901801/out/extension.js:2:1216694)",
      "at /home/atp-ariel/.vscode/extensions/ms-toolsai.jupyter-2022.3.1000901801/out/extension.js:2:533674",
      "at t.swallowExceptions (/home/atp-ariel/.vscode/extensions/ms-toolsai.jupyter-2022.3.1000901801/out/extension.js:2:913059)",
      "at dispose (/home/atp-ariel/.vscode/extensions/ms-toolsai.jupyter-2022.3.1000901801/out/extension.js:2:533652)",
      "at t.RawSession.dispose (/home/atp-ariel/.vscode/extensions/ms-toolsai.jupyter-2022.3.1000901801/out/extension.js:2:537330)",
      "at runMicrotasks (<anonymous>)",
      "at processTicksAndRejections (node:internal/process/task_queues:96:5)"
     ]
    }
   ],
   "source": [
    "model.compile(loss=\"mse\", optimizer=SGD(learning_rate=1e-3))\n",
    "history = model.fit(X_train, y_train, epochs=10, validation_data=(X_valid, y_valid))\n",
    "mse_test = model.evaluate(X_test, y_test)"
   ]
  },
  {
   "cell_type": "code",
   "execution_count": null,
   "metadata": {},
   "outputs": [],
   "source": []
  }
 ],
 "metadata": {
  "interpreter": {
   "hash": "916dbcbb3f70747c44a77c7bcd40155683ae19c65e1c03b4aa3499c5328201f1"
  },
  "kernelspec": {
   "display_name": "Python 3 (ipykernel)",
   "language": "python",
   "name": "python3"
  },
  "language_info": {
   "codemirror_mode": {
    "name": "ipython",
    "version": 3
   },
   "file_extension": ".py",
   "mimetype": "text/x-python",
   "name": "python",
   "nbconvert_exporter": "python",
   "pygments_lexer": "ipython3",
   "version": "3.8.10"
  }
 },
 "nbformat": 4,
 "nbformat_minor": 2
}
