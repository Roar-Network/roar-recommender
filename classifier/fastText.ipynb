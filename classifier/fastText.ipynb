{
 "cells": [
  {
   "cell_type": "code",
   "execution_count": 1,
   "metadata": {},
   "outputs": [],
   "source": [
    "import fasttext.FastText as ftt\n",
    "import pandas as pd\n",
    "import numpy as np\n",
    "import nltk as text\n",
    "from sklearn.model_selection import train_test_split, StratifiedKFold\n",
    "from sklearn.metrics import precision_score\n",
    "from contractions import fix\n",
    "import string\n",
    "SEED = 42"
   ]
  },
  {
   "cell_type": "code",
   "execution_count": 2,
   "metadata": {},
   "outputs": [],
   "source": [
    "class PreproccessText:\n",
    "    def __init__(self):\n",
    "        self.stop_words = set(text.corpus.stopwords.words(\"english\") + list(string.punctuation))\n",
    "        self.lemm = text.stem.WordNetLemmatizer().lemmatize\n",
    "    \n",
    "    def fit(self, corpus):\n",
    "        # ? normalization of str to lower case\n",
    "        corpus = corpus.lower()\n",
    "        # ? expand contraction like can't -> cannot\n",
    "        corpus = fix(corpus)\n",
    "\n",
    "        # ? tokenize\n",
    "        word_tokens = text.tokenize.word_tokenize(corpus)\n",
    "        # ? lemmatize\n",
    "        word_tokens = [self.lemm(w) for w in word_tokens]\n",
    "        # ? remove stopwords & punct & \n",
    "        filtered_sentence = [self.lemm(w) for w in word_tokens if w.isalpha and not w in self.stop_words ]\n",
    "\n",
    "        return \" \".join(filtered_sentence)\n"
   ]
  },
  {
   "cell_type": "code",
   "execution_count": 3,
   "metadata": {},
   "outputs": [],
   "source": [
    "# Prepare data to fast text\n",
    "cleanText = PreproccessText().fit\n",
    "\n",
    "data = pd.read_csv(\"./roars.csv\")\n",
    "data.dropna(inplace=True)\n",
    "\n",
    "labels = [f\"__label__{i}\" for i in range(1, 11)]\n",
    "data.category = data[\"category\"].apply(lambda i: labels[i-1])\n",
    "data = data[[\"category\", \"roar_text\"]]\n",
    "\n",
    "data.roar_text = data[\"roar_text\"].apply(cleanText)\n"
   ]
  },
  {
   "cell_type": "code",
   "execution_count": 4,
   "metadata": {},
   "outputs": [
    {
     "data": {
      "text/html": [
       "<div>\n",
       "<style scoped>\n",
       "    .dataframe tbody tr th:only-of-type {\n",
       "        vertical-align: middle;\n",
       "    }\n",
       "\n",
       "    .dataframe tbody tr th {\n",
       "        vertical-align: top;\n",
       "    }\n",
       "\n",
       "    .dataframe thead th {\n",
       "        text-align: right;\n",
       "    }\n",
       "</style>\n",
       "<table border=\"1\" class=\"dataframe\">\n",
       "  <thead>\n",
       "    <tr style=\"text-align: right;\">\n",
       "      <th></th>\n",
       "      <th>category</th>\n",
       "      <th>roar_text</th>\n",
       "    </tr>\n",
       "  </thead>\n",
       "  <tbody>\n",
       "    <tr>\n",
       "      <th>0</th>\n",
       "      <td>__label__2</td>\n",
       "      <td>doe zebra stripe provides camouflage predator ...</td>\n",
       "    </tr>\n",
       "    <tr>\n",
       "      <th>1</th>\n",
       "      <td>__label__4</td>\n",
       "      <td>itsy bitsy sipder climb waterspout</td>\n",
       "    </tr>\n",
       "    <tr>\n",
       "      <th>2</th>\n",
       "      <td>__label__3</td>\n",
       "      <td>woman get pm premenstrual syndrome pm group sy...</td>\n",
       "    </tr>\n",
       "    <tr>\n",
       "      <th>3</th>\n",
       "      <td>__label__3</td>\n",
       "      <td>co-worker guilty unsanitary hygiene would righ...</td>\n",
       "    </tr>\n",
       "    <tr>\n",
       "      <th>4</th>\n",
       "      <td>__label__3</td>\n",
       "      <td>risk alternative medicine gigantic question --...</td>\n",
       "    </tr>\n",
       "  </tbody>\n",
       "</table>\n",
       "</div>"
      ],
      "text/plain": [
       "     category                                          roar_text\n",
       "0  __label__2  doe zebra stripe provides camouflage predator ...\n",
       "1  __label__4                 itsy bitsy sipder climb waterspout\n",
       "2  __label__3  woman get pm premenstrual syndrome pm group sy...\n",
       "3  __label__3  co-worker guilty unsanitary hygiene would righ...\n",
       "4  __label__3  risk alternative medicine gigantic question --..."
      ]
     },
     "execution_count": 4,
     "metadata": {},
     "output_type": "execute_result"
    }
   ],
   "source": [
    "data.head()"
   ]
  },
  {
   "cell_type": "code",
   "execution_count": 5,
   "metadata": {},
   "outputs": [],
   "source": [
    "np.savetxt(\"./dataset/all.txt\", data.values, fmt='%s')\n",
    "X_tr, X_t, Y_tr, Y_t = train_test_split(data[\"roar_text\"], data[\"category\"], train_size=0.8, random_state=SEED)\n",
    "skf = StratifiedKFold(n_splits=len(set(Y_tr)),random_state=SEED, shuffle=True)\n",
    "\n",
    "np.savetxt(f\"./dataset/train.txt\", pd.DataFrame(list(zip(Y_tr, X_tr))).values, fmt=\"%s\")\n",
    "np.savetxt(f\"./dataset/test.txt\", pd.DataFrame(list(zip(Y_t, X_t))).values, fmt=\"%s\")\n",
    "\n",
    "X_tr = X_tr.reset_index()[\"roar_text\"]\n",
    "X_t = X_t.reset_index()[\"roar_text\"]\n",
    "Y_tr = Y_tr.reset_index()[\"category\"]\n",
    "Y_t = Y_t.reset_index()[\"category\"]\n",
    "\n",
    "y_val = []\n",
    "\n",
    "i = 0\n",
    "for t, v in skf.split(X_tr, Y_tr):\n",
    "    xt, yt, xv, yv = X_tr[t], Y_tr[t], X_tr[v], Y_tr[v]\n",
    "    y_val.append(yv)\n",
    "    train = pd.DataFrame(list(zip(yt, xt)), columns=[\"category\", \"roar_text\"])\n",
    "    validation = pd.DataFrame(list(zip(yv, xv)), columns=[\"category\", \"roar_text\"])\n",
    "    np.savetxt(f\"./dataset/train/train_{i}.txt\", train.values, fmt=\"%s\")\n",
    "    np.savetxt(f\"./dataset/validation/validation_{i}.txt\", validation.values, fmt=\"%s\")\n",
    "    i += 1"
   ]
  },
  {
   "cell_type": "code",
   "execution_count": 6,
   "metadata": {},
   "outputs": [],
   "source": [
    "def baseline(x):\n",
    "    pb = [ 0.11435443314748005, 0.2252760467912977, 0.32592106701650814, 0.42612878539411825, 0.5262271783098283, 0.6256258882693779, 0.7210670165081448, 0.8151087788345905, 0.9077074450639554, 1.0 ]\n",
    "    lb = [8,6,5,7,4,9,1,10,3,2]\n",
    "    U = np.random.uniform(0,1)\n",
    "    for i in range(10):\n",
    "        if U < pb[i]:\n",
    "            return f\"__label__{lb[i]}\""
   ]
  },
  {
   "cell_type": "code",
   "execution_count": 12,
   "metadata": {},
   "outputs": [
    {
     "name": "stderr",
     "output_type": "stream",
     "text": [
      "Read 0M words\n",
      "Number of words:  73481\n",
      "Number of labels: 10\n",
      "Progress: 100.0% words/sec/thread:  659463 lr:  0.000000 avg.loss:  1.306133 ETA:   0h 0m 0s\n",
      "Read 0M words\n",
      "Number of words:  73311\n",
      "Number of labels: 10\n",
      "Progress: 100.0% words/sec/thread:  882157 lr:  0.000000 avg.loss:  1.293636 ETA:   0h 0m 0s\n",
      "Read 0M words\n",
      "Number of words:  73507\n",
      "Number of labels: 10\n",
      "Progress: 100.0% words/sec/thread:  665057 lr:  0.000000 avg.loss:  1.319578 ETA:   0h 0m 0s\n",
      "Read 0M words\n",
      "Number of words:  73260\n",
      "Number of labels: 10\n",
      "Progress: 100.0% words/sec/thread:  757880 lr:  0.000000 avg.loss:  1.332956 ETA:   0h 0m 0s\n",
      "Read 0M words\n",
      "Number of words:  73352\n",
      "Number of labels: 10\n",
      "Progress: 100.0% words/sec/thread:  886044 lr:  0.000000 avg.loss:  1.304363 ETA:   0h 0m 0s\n",
      "Read 0M words\n",
      "Number of words:  73412\n",
      "Number of labels: 10\n",
      "Progress: 100.0% words/sec/thread:  885738 lr:  0.000000 avg.loss:  1.294916 ETA:   0h 0m 0s\n",
      "Read 0M words\n",
      "Number of words:  73203\n",
      "Number of labels: 10\n",
      "Progress: 100.0% words/sec/thread:  757046 lr:  0.000000 avg.loss:  1.316993 ETA:   0h 0m 0s\n",
      "Read 0M words\n",
      "Number of words:  73051\n",
      "Number of labels: 10\n",
      "Progress: 100.0% words/sec/thread:  661555 lr:  0.000000 avg.loss:  1.296492 ETA:   0h 0m 0s\n",
      "Read 0M words\n",
      "Number of words:  73176\n",
      "Number of labels: 10\n",
      "Progress: 100.0% words/sec/thread:  660668 lr:  0.000000 avg.loss:  1.342234 ETA:   0h 0m 0s\n",
      "Read 0M words\n",
      "Number of words:  73248\n",
      "Number of labels: 10\n",
      "Progress: 100.0% words/sec/thread:  663724 lr:  0.000000 avg.loss:  1.291355 ETA:   0h 0m 0s\n"
     ]
    }
   ],
   "source": [
    "metrics = []\n",
    "b_metrics = []\n",
    "\n",
    "for i in range(10):\n",
    "   model =  ftt.train_supervised(input=f\"./dataset/train/train_{i}.txt\")\n",
    "   metrics.append(model.test(f\"./dataset/validation/validation_{i}.txt\"))\n",
    "   bl = [baseline(i) for i in range(metrics[-1][0])]\n",
    "   b_metrics.append(precision_score(bl, y_val[i], average=\"weighted\"))\n"
   ]
  },
  {
   "cell_type": "code",
   "execution_count": 13,
   "metadata": {},
   "outputs": [
    {
     "name": "stderr",
     "output_type": "stream",
     "text": [
      "Read 0M words\n",
      "Number of words:  79023\n",
      "Number of labels: 10\n",
      "Progress: 100.0% words/sec/thread:  842099 lr:  0.000000 avg.loss:  1.256958 ETA:   0h 0m 0ss\n"
     ]
    }
   ],
   "source": [
    "model = ftt.train_supervised(input=\"./dataset/train.txt\")"
   ]
  },
  {
   "cell_type": "code",
   "execution_count": 14,
   "metadata": {},
   "outputs": [
    {
     "data": {
      "text/plain": [
       "(9147, 0.6180168361211326, 0.6180168361211326)"
      ]
     },
     "execution_count": 14,
     "metadata": {},
     "output_type": "execute_result"
    }
   ],
   "source": [
    "model.test(\"./dataset/test.txt\")"
   ]
  },
  {
   "cell_type": "code",
   "execution_count": 15,
   "metadata": {},
   "outputs": [
    {
     "name": "stdout",
     "output_type": "stream",
     "text": [
      "FastText precission 0.6158575490589124\n",
      "Baseline precission 0.10110014847022777\n"
     ]
    }
   ],
   "source": [
    "print(\"FastText precission\", np.mean(pd.DataFrame(metrics, columns=[\"count\", \"pr\", \"rec\"])['pr']))\n",
    "print(\"Baseline precission\",np.mean(b_metrics))"
   ]
  },
  {
   "cell_type": "code",
   "execution_count": 16,
   "metadata": {},
   "outputs": [],
   "source": [
    "class TextClassifier: \n",
    "    def __init__(self, model, threshold, preprocess: PreproccessText = None):\n",
    "        self.model = model\n",
    "        self.threshold = threshold\n",
    "        self.preprocess = PreproccessText().fit if preprocess == None or not isinstance(preprocess, PreproccessText) else preprocess\n",
    "    \n",
    "    def predict(self, corpus):\n",
    "        corpus = self.preprocess(corpus)\n",
    "        result = self.model.predict(corpus)\n",
    "        if result[1][0] >= self.threshold:\n",
    "            return int(result[0][0].split(\"__\")[-1])\n",
    "        return -1"
   ]
  },
  {
   "cell_type": "code",
   "execution_count": 17,
   "metadata": {},
   "outputs": [
    {
     "name": "stderr",
     "output_type": "stream",
     "text": [
      "Read 1M words\n",
      "Number of words:  92478\n",
      "Number of labels: 10\n",
      "Progress: 100.0% words/sec/thread:  817587 lr:  0.000000 avg.loss:  1.198228 ETA:   0h 0m 0s\n"
     ]
    }
   ],
   "source": [
    "clf = TextClassifier(ftt.train_supervised(input=\"./dataset/all.txt\"), 0.6158028444882493)"
   ]
  },
  {
   "cell_type": "code",
   "execution_count": 139,
   "metadata": {},
   "outputs": [],
   "source": [
    "model.save_model(\"./model.bin\")"
   ]
  },
  {
   "cell_type": "code",
   "execution_count": null,
   "metadata": {},
   "outputs": [],
   "source": []
  }
 ],
 "metadata": {
  "interpreter": {
   "hash": "916dbcbb3f70747c44a77c7bcd40155683ae19c65e1c03b4aa3499c5328201f1"
  },
  "kernelspec": {
   "display_name": "Python 3.8.10 64-bit",
   "language": "python",
   "name": "python3"
  },
  "language_info": {
   "codemirror_mode": {
    "name": "ipython",
    "version": 3
   },
   "file_extension": ".py",
   "mimetype": "text/x-python",
   "name": "python",
   "nbconvert_exporter": "python",
   "pygments_lexer": "ipython3",
   "version": "3.8.10"
  },
  "orig_nbformat": 4
 },
 "nbformat": 4,
 "nbformat_minor": 2
}
