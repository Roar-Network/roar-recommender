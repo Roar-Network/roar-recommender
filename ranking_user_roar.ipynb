{
 "cells": [
  {
   "cell_type": "code",
   "execution_count": 4,
   "metadata": {},
   "outputs": [],
   "source": [
    "from vaderSentiment.vaderSentiment import SentimentIntensityAnalyzer"
   ]
  },
  {
   "cell_type": "code",
   "execution_count": 5,
   "metadata": {},
   "outputs": [],
   "source": [
    "def sentiment_scores(sentence):\n",
    "    sid_obj = SentimentIntensityAnalyzer()\n",
    "    sentiment_dict = sid_obj.polarity_scores(sentence)\n",
    "    print(sentiment_dict)\n",
    "    if sentiment_dict['compound'] >= 0.05 :\n",
    "        return 1\n",
    "    elif sentiment_dict['compound'] <= - 0.05 :\n",
    "        return -1\n",
    "    return sentiment_dict['neu']*0.6"
   ]
  },
  {
   "cell_type": "code",
   "execution_count": 1,
   "metadata": {},
   "outputs": [],
   "source": [
    "SCORE_LIKE = 1\n",
    "SCORE_RT = 2\n",
    "SCORE_COMMENT = 3"
   ]
  },
  {
   "cell_type": "code",
   "execution_count": null,
   "metadata": {},
   "outputs": [],
   "source": [
    "def rating_user_roar(user_id: int, roar_id: int, like: bool, rt: bool, comments: list):\n",
    "    score = 0\n",
    "    score += SCORE_LIKE if like else 0\n",
    "    score += SCORE_RT if rt else 0\n",
    "    if len(comments) > 0:\n",
    "        for comment in comments:\n",
    "            score += SCORE_COMMENT * sentiment_scores(comment)\n",
    "    return score"
   ]
  },
  {
   "cell_type": "code",
   "execution_count": null,
   "metadata": {},
   "outputs": [],
   "source": []
  }
 ],
 "metadata": {
  "interpreter": {
   "hash": "916dbcbb3f70747c44a77c7bcd40155683ae19c65e1c03b4aa3499c5328201f1"
  },
  "kernelspec": {
   "display_name": "Python 3.8.10 64-bit",
   "language": "python",
   "name": "python3"
  },
  "language_info": {
   "codemirror_mode": {
    "name": "ipython",
    "version": 3
   },
   "file_extension": ".py",
   "mimetype": "text/x-python",
   "name": "python",
   "nbconvert_exporter": "python",
   "pygments_lexer": "ipython3",
   "version": "3.8.10"
  },
  "orig_nbformat": 4
 },
 "nbformat": 4,
 "nbformat_minor": 2
}
